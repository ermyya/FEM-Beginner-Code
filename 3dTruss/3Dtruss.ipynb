{
 "cells": [
  {
   "cell_type": "markdown",
   "metadata": {},
   "source": [
    "# Solving a 3D truss problem using IPython"
   ]
  },
  {
   "cell_type": "markdown",
   "metadata": {},
   "source": [
    "I am about to use SymPy ,the symbolic mathematical library developed for python , to solve the following problem:"
   ]
  },
  {
   "cell_type": "markdown",
   "metadata": {},
   "source": [
    "The Problem contains a 3D truss that is hinged freely in node 1 to displace at any direction except y axis  (u1 , w1) and E = 1200 kpsi. "
   ]
  },
  {
   "cell_type": "markdown",
   "metadata": {},
   "source": [
    "![](3Dtruss.png)"
   ]
  },
  {
   "cell_type": "code",
   "execution_count": 134,
   "metadata": {},
   "outputs": [],
   "source": [
    "#importing necessary libraries and functions\n",
    "import sympy as sp\n",
    "import numpy as np\n",
    "from sympy import Matrix , symbols , Symbol , zeros as spzeros , N "
   ]
  },
  {
   "cell_type": "markdown",
   "metadata": {},
   "source": [
    " Accotding to Eq. 3.7.9 of Logan's Book we obtain each element's stiffness using submatrices of λ disticly for each element:"
   ]
  },
  {
   "cell_type": "code",
   "execution_count": 135,
   "metadata": {},
   "outputs": [
    {
     "data": {
      "text/latex": [
       "$\\displaystyle \\left[\\begin{matrix}Cx^{2} & Cx Cy & Cx Cz\\\\Cx Cy & Cy^{2} & Cy Cz\\\\Cx Cz & Cy Cz & Cz^{2}\\end{matrix}\\right]$"
      ],
      "text/plain": [
       "Matrix([\n",
       "[Cx**2, Cx*Cy, Cx*Cz],\n",
       "[Cx*Cy, Cy**2, Cy*Cz],\n",
       "[Cx*Cz, Cy*Cz, Cz**2]])"
      ]
     },
     "execution_count": 135,
     "metadata": {},
     "output_type": "execute_result"
    }
   ],
   "source": [
    "#A preview of λ matrice \n",
    "cx , cy ,cz = symbols(\"Cx Cy Cz\")\n",
    "λ = np.array([[cx**2 , cx*cy , cx*cz],\n",
    "                [cy*cx , cy**2 , cy*cz],\n",
    "                [cz*cx , cz*cy , cz*cz]])\n",
    "λ = Matrix(λ)\n",
    "λ"
   ]
  },
  {
   "cell_type": "markdown",
   "metadata": {},
   "source": [
    "### Determining Stiffness\n",
    "\n"
   ]
  },
  {
   "cell_type": "markdown",
   "metadata": {},
   "source": [
    "#### Element 3"
   ]
  },
  {
   "cell_type": "code",
   "execution_count": 136,
   "metadata": {},
   "outputs": [
    {
     "data": {
      "text/latex": [
       "$\\displaystyle \\left[\\begin{array}{cccccccccccc}0.693889 & 0 & 0.45815 & 0 & 0 & 0 & 0 & 0 & 0 & 0.693889 & 0 & 0.45815\\\\0 & 0 & 0 & 0 & 0 & 0 & 0 & 0 & 0 & 0 & 0 & 0\\\\0.45815 & 0 & 0.3025 & 0 & 0 & 0 & 0 & 0 & 0 & 0.45815 & 0 & 0.3025\\\\0 & 0 & 0 & 0 & 0 & 0 & 0 & 0 & 0 & 0 & 0 & 0\\\\0 & 0 & 0 & 0 & 0 & 0 & 0 & 0 & 0 & 0 & 0 & 0\\\\0 & 0 & 0 & 0 & 0 & 0 & 0 & 0 & 0 & 0 & 0 & 0\\\\0 & 0 & 0 & 0 & 0 & 0 & 0 & 0 & 0 & 0 & 0 & 0\\\\0 & 0 & 0 & 0 & 0 & 0 & 0 & 0 & 0 & 0 & 0 & 0\\\\0 & 0 & 0 & 0 & 0 & 0 & 0 & 0 & 0 & 0 & 0 & 0\\\\0.693889 & 0 & 0.45815 & 0 & 0 & 0 & 0 & 0 & 0 & 0.693889 & 0 & 0.45815\\\\0 & 0 & 0 & 0 & 0 & 0 & 0 & 0 & 0 & 0 & 0 & 0\\\\0.45815 & 0 & 0.3025 & 0 & 0 & 0 & 0 & 0 & 0 & 0.45815 & 0 & 0.3025\\end{array}\\right]$"
      ],
      "text/plain": [
       "Matrix([\n",
       "[0.693889, 0, 0.45815, 0, 0, 0, 0, 0, 0, 0.693889, 0, 0.45815],\n",
       "[       0, 0,       0, 0, 0, 0, 0, 0, 0,        0, 0,       0],\n",
       "[ 0.45815, 0,  0.3025, 0, 0, 0, 0, 0, 0,  0.45815, 0,  0.3025],\n",
       "[       0, 0,       0, 0, 0, 0, 0, 0, 0,        0, 0,       0],\n",
       "[       0, 0,       0, 0, 0, 0, 0, 0, 0,        0, 0,       0],\n",
       "[       0, 0,       0, 0, 0, 0, 0, 0, 0,        0, 0,       0],\n",
       "[       0, 0,       0, 0, 0, 0, 0, 0, 0,        0, 0,       0],\n",
       "[       0, 0,       0, 0, 0, 0, 0, 0, 0,        0, 0,       0],\n",
       "[       0, 0,       0, 0, 0, 0, 0, 0, 0,        0, 0,       0],\n",
       "[0.693889, 0, 0.45815, 0, 0, 0, 0, 0, 0, 0.693889, 0, 0.45815],\n",
       "[       0, 0,       0, 0, 0, 0, 0, 0, 0,        0, 0,       0],\n",
       "[ 0.45815, 0,  0.3025, 0, 0, 0, 0, 0, 0,  0.45815, 0,  0.3025]])"
      ]
     },
     "execution_count": 136,
     "metadata": {},
     "output_type": "execute_result"
    }
   ],
   "source": [
    "λ1, λ2, λ3 = symbols(\"λ1 λ2 λ3\")\n",
    "cx, cy, cz = symbols(\"Cx Cy Cz\")\n",
    "λ3 = np.array([[cx**2 , cx*cy , cx*cz],\n",
    "                [cy*cx , cy**2 , cy*cz],\n",
    "                [cz*cx , cz*cy , cz*cz]])\n",
    "λ3 = Matrix(λ3)\n",
    "#substituting C values using subs dictionary\n",
    "subs = {cx :0.833, cy : 0 , cz : 0.55}\n",
    "λ3 = N(λ3.subs(subs))\n",
    "k3 = Matrix(12,12,lambda i,j:0) #defining a zero matrice to place λ3[3X3] in\n",
    "k3[0:3,0:3]   = λ3\n",
    "k3[0:3,9:12]  = λ3\n",
    "k3[9:12,0:3]  = λ3\n",
    "k3[9:12,9:12] = λ3\n",
    "k3 \n",
    "#obtaining  k3[12x12] super ez af "
   ]
  },
  {
   "cell_type": "code",
   "execution_count": 150,
   "metadata": {},
   "outputs": [
    {
     "data": {
      "text/latex": [
       "$\\displaystyle \\left[\\begin{array}{cccccccccccc}1800.10048092472 & 0 & 1188.54173410396 & 0 & 0 & 0 & 0 & 0 & 0 & 1800.10048092472 & 0 & 1188.54173410396\\\\0 & 0 & 0 & 0 & 0 & 0 & 0 & 0 & 0 & 0 & 0 & 0\\\\1188.54173410396 & 0 & 784.751445086648 & 0 & 0 & 0 & 0 & 0 & 0 & 1188.54173410396 & 0 & 784.751445086648\\\\0 & 0 & 0 & 0 & 0 & 0 & 0 & 0 & 0 & 0 & 0 & 0\\\\0 & 0 & 0 & 0 & 0 & 0 & 0 & 0 & 0 & 0 & 0 & 0\\\\0 & 0 & 0 & 0 & 0 & 0 & 0 & 0 & 0 & 0 & 0 & 0\\\\0 & 0 & 0 & 0 & 0 & 0 & 0 & 0 & 0 & 0 & 0 & 0\\\\0 & 0 & 0 & 0 & 0 & 0 & 0 & 0 & 0 & 0 & 0 & 0\\\\0 & 0 & 0 & 0 & 0 & 0 & 0 & 0 & 0 & 0 & 0 & 0\\\\1800.10048092472 & 0 & 1188.54173410396 & 0 & 0 & 0 & 0 & 0 & 0 & 1800.10048092472 & 0 & 1188.54173410396\\\\0 & 0 & 0 & 0 & 0 & 0 & 0 & 0 & 0 & 0 & 0 & 0\\\\1188.54173410396 & 0 & 784.751445086648 & 0 & 0 & 0 & 0 & 0 & 0 & 1188.54173410396 & 0 & 784.751445086648\\end{array}\\right]$"
      ],
      "text/plain": [
       "Matrix([\n",
       "[1800.10048092472, 0, 1188.54173410396, 0, 0, 0, 0, 0, 0, 1800.10048092472, 0, 1188.54173410396],\n",
       "[               0, 0,                0, 0, 0, 0, 0, 0, 0,                0, 0,                0],\n",
       "[1188.54173410396, 0, 784.751445086648, 0, 0, 0, 0, 0, 0, 1188.54173410396, 0, 784.751445086648],\n",
       "[               0, 0,                0, 0, 0, 0, 0, 0, 0,                0, 0,                0],\n",
       "[               0, 0,                0, 0, 0, 0, 0, 0, 0,                0, 0,                0],\n",
       "[               0, 0,                0, 0, 0, 0, 0, 0, 0,                0, 0,                0],\n",
       "[               0, 0,                0, 0, 0, 0, 0, 0, 0,                0, 0,                0],\n",
       "[               0, 0,                0, 0, 0, 0, 0, 0, 0,                0, 0,                0],\n",
       "[               0, 0,                0, 0, 0, 0, 0, 0, 0,                0, 0,                0],\n",
       "[1800.10048092472, 0, 1188.54173410396, 0, 0, 0, 0, 0, 0, 1800.10048092472, 0, 1188.54173410396],\n",
       "[               0, 0,                0, 0, 0, 0, 0, 0, 0,                0, 0,                0],\n",
       "[1188.54173410396, 0, 784.751445086648, 0, 0, 0, 0, 0, 0, 1188.54173410396, 0, 784.751445086648]])"
      ]
     },
     "execution_count": 150,
     "metadata": {},
     "output_type": "execute_result"
    }
   ],
   "source": [
    "# multiplying the AE/L =2594.219653179 in the k3 to reach K3\n",
    "K3 = 2594.219653179 * k3\n",
    "K3"
   ]
  },
  {
   "cell_type": "markdown",
   "metadata": {},
   "source": [
    "#### Element 1"
   ]
  },
  {
   "cell_type": "code",
   "execution_count": 151,
   "metadata": {},
   "outputs": [
    {
     "data": {
      "text/latex": [
       "$\\displaystyle \\left[\\begin{matrix}0.7921 & 0.4005 & 0\\\\0.4005 & 0.2025 & 0\\\\0 & 0 & 0\\end{matrix}\\right]$"
      ],
      "text/plain": [
       "Matrix([\n",
       "[0.7921, 0.4005, 0],\n",
       "[0.4005, 0.2025, 0],\n",
       "[     0,      0, 0]])"
      ]
     },
     "execution_count": 151,
     "metadata": {},
     "output_type": "execute_result"
    }
   ],
   "source": [
    "#same process as we gone through for k3\n",
    "cx1, cy1, cz1 = symbols(\"C_x1 C_y1 C_z1\")\n",
    "λ1 = np.array([[cx1**2 , cx1*cy1 , cx1*cz1],\n",
    "                [cy1*cx1 , cy1**2 , cy1*cz1],\n",
    "                [cz1*cx1 , cz1*cy1 , cz1*cz1]])\n",
    "λ1 = Matrix(λ1)\n",
    "#only sub dict is deifferent with previous session\n",
    "subs = {cx1 :0.89, cy1 : 0.45 , cz1 : 0}\n",
    "λ1 = N(λ1.subs(subs))\n",
    "k1 = Matrix(12,12,lambda i,j:0)\n",
    "# now rows and columns are also deifferent than the k3 obviously :D\n",
    "k1[0:3,0:3] = λ1\n",
    "k1[0:3,3:6] = λ1\n",
    "k1[3:6,0:3] = λ1\n",
    "k1[3:6,3:6] = λ1\n",
    "#for element1 AE/L = 4501.863354037 \n",
    "K1 = 4501.863354037 * k1\n",
    "#K1 for elment 1 obtained\n",
    "λ1"
   ]
  },
  {
   "cell_type": "markdown",
   "metadata": {},
   "source": [
    "#### Element 2"
   ]
  },
  {
   "cell_type": "code",
   "execution_count": 152,
   "metadata": {},
   "outputs": [
    {
     "data": {
      "text/latex": [
       "$\\displaystyle \\left[\\begin{matrix}0.444889 & 0.22011 & 0.444889\\\\0.22011 & 0.1089 & 0.22011\\\\0.444889 & 0.22011 & 0.444889\\end{matrix}\\right]$"
      ],
      "text/plain": [
       "Matrix([\n",
       "[0.444889, 0.22011, 0.444889],\n",
       "[ 0.22011,  0.1089,  0.22011],\n",
       "[0.444889, 0.22011, 0.444889]])"
      ]
     },
     "execution_count": 152,
     "metadata": {},
     "output_type": "execute_result"
    }
   ],
   "source": [
    "#same precidure as before\n",
    "cx2, cy2, cz2 = symbols(\"C_x2 C_y2 C_z2\")\n",
    "λ2 = np.array([[cx2**2 , cx2*cy2 , cx2*cz2],\n",
    "                [cy2*cx2 , cy2**2 , cy2*cz2],\n",
    "                [cz2*cx2 , cz2*cy2 , cz2*cz2]])\n",
    "λ2 = Matrix(λ2)\n",
    "\n",
    "subs = {cx2 :0.667, cy2 : 0.33 , cz2 : 0.667}\n",
    "λ2 = N(λ2.subs(subs))\n",
    "k2 = Matrix(12,12,lambda i,j:0)\n",
    "k2[0:3,0:3] = λ2\n",
    "k2[0:3,6:9] = λ2\n",
    "k2[6:9,0:3] = λ2\n",
    "k2[6:9,6:9] = λ2\n",
    "# for element 2 AE/L = 8100\n",
    "K2 = 8100 * k2\n",
    "K2\n",
    "λ2"
   ]
  },
  {
   "cell_type": "code",
   "execution_count": 140,
   "metadata": {},
   "outputs": [],
   "source": [
    "#getting the Global Stiffness (Kg) \n",
    "Kg = K1 + K2 + K3"
   ]
  },
  {
   "cell_type": "code",
   "execution_count": 177,
   "metadata": {},
   "outputs": [],
   "source": [
    "#defining symbolic forces for nodes\n",
    "fx2,fy2,fz2,fx3,fy3,fz3,fx4,fy4,fz4 = symbols(\"F_2x F_2y F_2z F_3x F_3y F_3z F_4x F_4y F_4z\")\n",
    "F = Matrix(12,1,[0,0,1000,fx2,0,fz2,fx3,fy3,fz3,fx4,fy4,fz4])\n",
    "#Boundary condition is zero at nodes 2,3 and 4\n",
    "u1 , v2 , w1 = symbols(\"u1 v2 w1\")\n",
    "u = Matrix(12,1,[u1,0,w1,0,v2,0,0,0,0,0,0,0])"
   ]
  },
  {
   "cell_type": "markdown",
   "metadata": {},
   "source": [
    "#### Solving for u matrice"
   ]
  },
  {
   "cell_type": "code",
   "execution_count": 178,
   "metadata": {
    "scrolled": true
   },
   "outputs": [
    {
     "data": {
      "text/latex": [
       "$\\displaystyle \\left[\\begin{matrix}-6.40049309082198\\\\7.21730465769846\\\\12.6587530018479\\end{matrix}\\right]$"
      ],
      "text/plain": [
       "Matrix([\n",
       "[-6.40049309082198],\n",
       "[ 7.21730465769846],\n",
       "[ 12.6587530018479]])"
      ]
     },
     "execution_count": 178,
     "metadata": {},
     "output_type": "execute_result"
    }
   ],
   "source": [
    "k_1 = Kg[0:6:2,0:6:2]\n",
    "u_1 = u[0:6:2,0]\n",
    "f_1 = F[0:6:2,0]\n",
    "u_1 = k_1.LUsolve(f_1)\n",
    "u_1"
   ]
  },
  {
   "cell_type": "code",
   "execution_count": 181,
   "metadata": {},
   "outputs": [
    {
     "data": {
      "text/latex": [
       "$\\displaystyle \\left[\\begin{matrix}-0.292252\\\\0\\\\0.54702008\\\\0\\\\12.658775\\\\0\\\\0\\\\0\\\\0\\\\0\\\\0\\\\0\\end{matrix}\\right]$"
      ],
      "text/plain": [
       "Matrix([\n",
       "[ -0.292252],\n",
       "[         0],\n",
       "[0.54702008],\n",
       "[         0],\n",
       "[ 12.658775],\n",
       "[         0],\n",
       "[         0],\n",
       "[         0],\n",
       "[         0],\n",
       "[         0],\n",
       "[         0],\n",
       "[         0]])"
      ]
     },
     "execution_count": 181,
     "metadata": {},
     "output_type": "execute_result"
    }
   ],
   "source": [
    "#displacement\n",
    "subs = {u1 : -0.292252 , w1 : 0.54702008 , v2 :12.658775 }\n",
    "u = N(u.subs(subs))\n",
    "u"
   ]
  },
  {
   "cell_type": "code",
   "execution_count": 180,
   "metadata": {},
   "outputs": [
    {
     "data": {
      "text/latex": [
       "$\\displaystyle \\left[\\begin{matrix}20030.5566291808\\\\10065.0758766366\\\\81.9210993960634\\\\21781.5751549791\\\\11013.1559772366\\\\0\\\\-1875.09175452\\\\-948.0801006\\\\0\\\\124.073228721674\\\\0\\\\81.9210993960634\\end{matrix}\\right]$"
      ],
      "text/plain": [
       "Matrix([\n",
       "[20030.5566291808],\n",
       "[10065.0758766366],\n",
       "[81.9210993960634],\n",
       "[21781.5751549791],\n",
       "[11013.1559772366],\n",
       "[               0],\n",
       "[  -1875.09175452],\n",
       "[    -948.0801006],\n",
       "[               0],\n",
       "[124.073228721674],\n",
       "[               0],\n",
       "[81.9210993960634]])"
      ]
     },
     "execution_count": 180,
     "metadata": {},
     "output_type": "execute_result"
    }
   ],
   "source": [
    "#reaction forces\n",
    "react = K * u\n",
    "react"
   ]
  }
 ],
 "metadata": {
  "kernelspec": {
   "display_name": "Python 3",
   "language": "python",
   "name": "python3"
  },
  "language_info": {
   "codemirror_mode": {
    "name": "ipython",
    "version": 3
   },
   "file_extension": ".py",
   "mimetype": "text/x-python",
   "name": "python",
   "nbconvert_exporter": "python",
   "pygments_lexer": "ipython3",
   "version": "3.7.4"
  }
 },
 "nbformat": 4,
 "nbformat_minor": 2
}
